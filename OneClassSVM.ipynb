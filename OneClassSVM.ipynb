{
  "nbformat": 4,
  "nbformat_minor": 0,
  "metadata": {
    "colab": {
      "provenance": [],
      "authorship_tag": "ABX9TyPWQMTN9x3eIebFY9Xr4teY",
      "include_colab_link": true
    },
    "kernelspec": {
      "name": "python3",
      "display_name": "Python 3"
    },
    "language_info": {
      "name": "python"
    }
  },
  "cells": [
    {
      "cell_type": "markdown",
      "metadata": {
        "id": "view-in-github",
        "colab_type": "text"
      },
      "source": [
        "<a href=\"https://colab.research.google.com/github/utkchheda27/ACM-ICPC-Algorithms/blob/master/OneClassSVM.ipynb\" target=\"_parent\"><img src=\"https://colab.research.google.com/assets/colab-badge.svg\" alt=\"Open In Colab\"/></a>"
      ]
    },
    {
      "cell_type": "code",
      "execution_count": 85,
      "metadata": {
        "id": "ozZEUaUvQCbS"
      },
      "outputs": [],
      "source": [
        "import json\n",
        "import random\n",
        "import re\n",
        "import numpy as np\n",
        "import pandas as pd\n",
        "from sklearn.svm import OneClassSVM\n",
        "from sklearn.feature_extraction.text import CountVectorizer\n",
        "from sklearn.pipeline import Pipeline\n",
        "from sklearn.preprocessing import StandardScaler\n",
        "from sklearn.model_selection import train_test_split\n",
        "from sklearn.metrics import accuracy_score\n",
        "from sklearn.metrics import confusion_matrix"
      ]
    },
    {
      "cell_type": "code",
      "source": [
        "def extract_port_number(message):\n",
        "    # Use regular expression to extract the port number\n",
        "    match = re.search(r\"port (\\d+)\", message, re.IGNORECASE)\n",
        "    if match:\n",
        "        return int(match.group(1))\n",
        "    else:\n",
        "        return None\n",
        "\n",
        "\n",
        "def label_windows(json_data, window_size=7, anomaly_prob=0.1):\n",
        "    windows = []\n",
        "    labels = []\n",
        "    num_objects = len(json_data)\n",
        "    for i in range(num_objects - window_size + 1):\n",
        "        window = json_data[i:i+window_size]\n",
        "        if random.random() < anomaly_prob:\n",
        "            label = 'anomalous'\n",
        "        else:\n",
        "            label = 'normal'\n",
        "        temp=[]\n",
        "        for log in window:\n",
        "            temp.append(log['Message'])\n",
        "        events = [log[\"Message\"].split()[-1] for log in window]\n",
        "\n",
        "        # Extract port numbers\n",
        "        ports = [extract_port_number(log[\"Message\"]) for log in window]\n",
        "        port_dict = {}\n",
        "        for x in ports:\n",
        "            if x not in port_dict and x is not None:\n",
        "                port_dict[x]=0\n",
        "\n",
        "\n",
        "        target_events = {\n",
        "            \"Change\",\n",
        "            \"up\",\n",
        "            \"Learning\",\n",
        "            \"Forward\",\n",
        "            \"Blocking\",\n",
        "            \"down\",\n",
        "        }\n",
        "\n",
        "        for port,event in zip(ports,events):\n",
        "            if event in target_events:\n",
        "                port_dict[port] += 1\n",
        "\n",
        "        tag = 0\n",
        "        for x in port_dict.keys():\n",
        "            if port_dict[x]>=4:\n",
        "                tag=1\n",
        "\n",
        "        labels.append(tag)\n",
        "        windows.append(temp)\n",
        "    return windows, labels\n",
        "\n",
        "def read_json_file(file_path):\n",
        "    with open(file_path, 'r') as file:\n",
        "        data = json.load(file)\n",
        "    return data"
      ],
      "metadata": {
        "id": "XvOPFNt7T3of"
      },
      "execution_count": 76,
      "outputs": []
    },
    {
      "cell_type": "code",
      "source": [
        "json_data =read_json_file(\"/content/parsed_logs.json\")\n",
        "windows, labels = label_windows(json_data)"
      ],
      "metadata": {
        "id": "nXd1lJT2UHro"
      },
      "execution_count": 77,
      "outputs": []
    },
    {
      "cell_type": "code",
      "source": [
        "print(len(windows))\n",
        "#out of 1081 logs, window size=7, total 1075 windows\n",
        "\n",
        "#each window has labels associated to it\n",
        "print(len(labels))\n",
        "\n",
        "print(windows[220])\n",
        "\n",
        "print(labels[220])"
      ],
      "metadata": {
        "colab": {
          "base_uri": "https://localhost:8080/"
        },
        "id": "6vVdAcb-Vrlo",
        "outputId": "0206c604-ff21-47ee-d46a-307d92c1f04f"
      },
      "execution_count": 78,
      "outputs": [
        {
          "output_type": "stream",
          "name": "stdout",
          "text": [
            "1075\n",
            "1075\n",
            "['B: Major network physical port status change, port 3 Port Forward', 'B: Major network physical port status change, port 3 Port Blocking', 'B: Major network physical port status change, port 3 Link down', 'B: Major Network Topology Change Detected', 'B: Major network physical port status change, port 3 Link up', 'B: Major network physical port status change, port 3 Port Learning', 'B: Major network physical port status change, port 3 Port Forward']\n",
            "1\n"
          ]
        }
      ]
    },
    {
      "cell_type": "code",
      "source": [
        "# Load your preprocessed data (X is a list of windows, y are labels)\n",
        "X = windows  # windows (length 1075)\n",
        "y = labels  # labels (shape: (1075,))\n",
        "\n",
        "X_normal = []\n",
        "y_normal = []\n",
        "\n",
        "for i in range(len(X)):\n",
        "    if y[i] == 0:\n",
        "        X_normal.append(X[i])\n",
        "        y_normal.append(y[i])\n",
        "\n",
        "print(len(X_normal))\n",
        "print(y_normal)"
      ],
      "metadata": {
        "colab": {
          "base_uri": "https://localhost:8080/"
        },
        "id": "sEQLRnn1Jltq",
        "outputId": "54a3eb3c-c023-486f-ca27-66c74a27884a"
      },
      "execution_count": 80,
      "outputs": [
        {
          "output_type": "stream",
          "name": "stdout",
          "text": [
            "647\n",
            "[0, 0, 0, 0, 0, 0, 0, 0, 0, 0, 0, 0, 0, 0, 0, 0, 0, 0, 0, 0, 0, 0, 0, 0, 0, 0, 0, 0, 0, 0, 0, 0, 0, 0, 0, 0, 0, 0, 0, 0, 0, 0, 0, 0, 0, 0, 0, 0, 0, 0, 0, 0, 0, 0, 0, 0, 0, 0, 0, 0, 0, 0, 0, 0, 0, 0, 0, 0, 0, 0, 0, 0, 0, 0, 0, 0, 0, 0, 0, 0, 0, 0, 0, 0, 0, 0, 0, 0, 0, 0, 0, 0, 0, 0, 0, 0, 0, 0, 0, 0, 0, 0, 0, 0, 0, 0, 0, 0, 0, 0, 0, 0, 0, 0, 0, 0, 0, 0, 0, 0, 0, 0, 0, 0, 0, 0, 0, 0, 0, 0, 0, 0, 0, 0, 0, 0, 0, 0, 0, 0, 0, 0, 0, 0, 0, 0, 0, 0, 0, 0, 0, 0, 0, 0, 0, 0, 0, 0, 0, 0, 0, 0, 0, 0, 0, 0, 0, 0, 0, 0, 0, 0, 0, 0, 0, 0, 0, 0, 0, 0, 0, 0, 0, 0, 0, 0, 0, 0, 0, 0, 0, 0, 0, 0, 0, 0, 0, 0, 0, 0, 0, 0, 0, 0, 0, 0, 0, 0, 0, 0, 0, 0, 0, 0, 0, 0, 0, 0, 0, 0, 0, 0, 0, 0, 0, 0, 0, 0, 0, 0, 0, 0, 0, 0, 0, 0, 0, 0, 0, 0, 0, 0, 0, 0, 0, 0, 0, 0, 0, 0, 0, 0, 0, 0, 0, 0, 0, 0, 0, 0, 0, 0, 0, 0, 0, 0, 0, 0, 0, 0, 0, 0, 0, 0, 0, 0, 0, 0, 0, 0, 0, 0, 0, 0, 0, 0, 0, 0, 0, 0, 0, 0, 0, 0, 0, 0, 0, 0, 0, 0, 0, 0, 0, 0, 0, 0, 0, 0, 0, 0, 0, 0, 0, 0, 0, 0, 0, 0, 0, 0, 0, 0, 0, 0, 0, 0, 0, 0, 0, 0, 0, 0, 0, 0, 0, 0, 0, 0, 0, 0, 0, 0, 0, 0, 0, 0, 0, 0, 0, 0, 0, 0, 0, 0, 0, 0, 0, 0, 0, 0, 0, 0, 0, 0, 0, 0, 0, 0, 0, 0, 0, 0, 0, 0, 0, 0, 0, 0, 0, 0, 0, 0, 0, 0, 0, 0, 0, 0, 0, 0, 0, 0, 0, 0, 0, 0, 0, 0, 0, 0, 0, 0, 0, 0, 0, 0, 0, 0, 0, 0, 0, 0, 0, 0, 0, 0, 0, 0, 0, 0, 0, 0, 0, 0, 0, 0, 0, 0, 0, 0, 0, 0, 0, 0, 0, 0, 0, 0, 0, 0, 0, 0, 0, 0, 0, 0, 0, 0, 0, 0, 0, 0, 0, 0, 0, 0, 0, 0, 0, 0, 0, 0, 0, 0, 0, 0, 0, 0, 0, 0, 0, 0, 0, 0, 0, 0, 0, 0, 0, 0, 0, 0, 0, 0, 0, 0, 0, 0, 0, 0, 0, 0, 0, 0, 0, 0, 0, 0, 0, 0, 0, 0, 0, 0, 0, 0, 0, 0, 0, 0, 0, 0, 0, 0, 0, 0, 0, 0, 0, 0, 0, 0, 0, 0, 0, 0, 0, 0, 0, 0, 0, 0, 0, 0, 0, 0, 0, 0, 0, 0, 0, 0, 0, 0, 0, 0, 0, 0, 0, 0, 0, 0, 0, 0, 0, 0, 0, 0, 0, 0, 0, 0, 0, 0, 0, 0, 0, 0, 0, 0, 0, 0, 0, 0, 0, 0, 0, 0, 0, 0, 0, 0, 0, 0, 0, 0, 0, 0, 0, 0, 0, 0, 0, 0, 0, 0, 0, 0, 0, 0, 0, 0, 0, 0, 0, 0, 0, 0, 0, 0, 0, 0, 0, 0, 0, 0, 0, 0, 0, 0, 0, 0, 0, 0, 0, 0, 0, 0, 0, 0, 0, 0, 0, 0, 0, 0, 0, 0, 0, 0, 0, 0, 0, 0, 0, 0, 0]\n"
          ]
        }
      ]
    },
    {
      "cell_type": "code",
      "source": [
        "# Load your preprocessed data (X is a list of windows, y are labels)\n",
        "X = windows  # windows (length 1075)\n",
        "y = labels  # labels (shape: (1075,))\n",
        "\n",
        "# Convert tokenized windows to numpy array\n",
        "X_train, X_test, y_train, y_test = train_test_split(X, y, test_size=0.3, random_state=42)\n",
        "print(len(X_train))\n",
        "print(len(y_train))"
      ],
      "metadata": {
        "colab": {
          "base_uri": "https://localhost:8080/"
        },
        "id": "1c_4EBjBZkSK",
        "outputId": "e4cb78a9-969a-44f3-8d88-c15bd01a1e13"
      },
      "execution_count": 66,
      "outputs": [
        {
          "output_type": "stream",
          "name": "stdout",
          "text": [
            "752\n",
            "752\n"
          ]
        }
      ]
    },
    {
      "cell_type": "code",
      "source": [
        "# Function to tokenize and vectorize text data\n",
        "def vectorize_text_data(windows):\n",
        "    vectorizer = CountVectorizer()  # Using a simple CountVectorizer for tokenization\n",
        "    X = vectorizer.fit_transform([' '.join(window) for window in windows]).toarray()\n",
        "    return X, vectorizer\n",
        "\n",
        "# Function to train One-Class SVM\n",
        "def train_one_class_svm(X, nu_value=0.01):\n",
        "    scaler = StandardScaler()\n",
        "    X_scaled = scaler.fit_transform(X)\n",
        "\n",
        "    # Train One-Class SVM\n",
        "    clf = OneClassSVM(kernel='rbf', nu=nu_value)  # Adjust parameters as needed\n",
        "    clf.fit(X_scaled)\n",
        "\n",
        "    return clf, scaler"
      ],
      "metadata": {
        "id": "UwaBQnCuVtNc"
      },
      "execution_count": null,
      "outputs": []
    },
    {
      "cell_type": "code",
      "source": [
        "# Vectorize the training data\n",
        "X_normal, vectorizer = vectorize_text_data(X_normal)\n",
        "\n",
        "# Train One-Class SVM with adjusted parameters\n",
        "clf, scaler = train_one_class_svm(X_normal, nu_value=0.05)  # Adjust nu_value as needed\n",
        "\n",
        "# Example of predicting on new data\n",
        "def predict_anomalies(new_window):\n",
        "    # Vectorize the new window\n",
        "    new_window_vectorized = vectorizer.transform([' '.join(new_window)]).toarray()\n",
        "\n",
        "    # Scale the vector\n",
        "    new_window_scaled = scaler.transform(new_window_vectorized)\n",
        "\n",
        "    # Predict on the new window\n",
        "    prediction = clf.predict(new_window_scaled)\n",
        "\n",
        "    return prediction"
      ],
      "metadata": {
        "id": "HTAHWZleYhOc"
      },
      "execution_count": null,
      "outputs": []
    },
    {
      "cell_type": "code",
      "source": [
        "predictions = []\n",
        "\n",
        "for window in X_test:\n",
        "    prediction = predict_anomalies(window)\n",
        "    predictions.append(prediction)\n",
        "\n",
        "print(predictions)\n",
        "\n",
        "for i, prediction in enumerate(predictions):\n",
        "    print(f\"Window {i + 1}: {'Normal' if prediction == 1 else 'Anomaly'}\")\n"
      ],
      "metadata": {
        "colab": {
          "base_uri": "https://localhost:8080/"
        },
        "id": "2A7TaKT0Yi9x",
        "outputId": "72472d80-7c2a-45de-eff9-b4324320aaf8"
      },
      "execution_count": 72,
      "outputs": [
        {
          "output_type": "stream",
          "name": "stdout",
          "text": [
            "[array([1]), array([-1]), array([-1]), array([1]), array([-1]), array([1]), array([1]), array([-1]), array([-1]), array([1]), array([1]), array([-1]), array([-1]), array([1]), array([1]), array([-1]), array([-1]), array([1]), array([-1]), array([1]), array([1]), array([1]), array([-1]), array([1]), array([1]), array([1]), array([-1]), array([1]), array([1]), array([-1]), array([-1]), array([-1]), array([1]), array([1]), array([1]), array([1]), array([1]), array([1]), array([-1]), array([-1]), array([1]), array([1]), array([1]), array([1]), array([-1]), array([1]), array([1]), array([-1]), array([-1]), array([1]), array([-1]), array([1]), array([-1]), array([1]), array([-1]), array([1]), array([1]), array([-1]), array([1]), array([-1]), array([-1]), array([-1]), array([1]), array([1]), array([-1]), array([-1]), array([1]), array([1]), array([1]), array([1]), array([1]), array([-1]), array([-1]), array([1]), array([-1]), array([1]), array([-1]), array([-1]), array([1]), array([-1]), array([-1]), array([1]), array([1]), array([-1]), array([1]), array([1]), array([-1]), array([1]), array([1]), array([-1]), array([-1]), array([-1]), array([-1]), array([-1]), array([-1]), array([1]), array([-1]), array([1]), array([-1]), array([-1]), array([1]), array([-1]), array([-1]), array([-1]), array([-1]), array([-1]), array([1]), array([-1]), array([-1]), array([-1]), array([1]), array([1]), array([-1]), array([1]), array([-1]), array([1]), array([1]), array([-1]), array([-1]), array([1]), array([-1]), array([1]), array([-1]), array([-1]), array([1]), array([1]), array([1]), array([1]), array([-1]), array([1]), array([1]), array([-1]), array([1]), array([1]), array([1]), array([-1]), array([-1]), array([1]), array([1]), array([-1]), array([1]), array([1]), array([-1]), array([-1]), array([1]), array([1]), array([1]), array([1]), array([1]), array([-1]), array([1]), array([-1]), array([1]), array([1]), array([1]), array([1]), array([1]), array([-1]), array([1]), array([1]), array([1]), array([-1]), array([1]), array([1]), array([-1]), array([-1]), array([1]), array([-1]), array([1]), array([-1]), array([1]), array([-1]), array([1]), array([1]), array([1]), array([-1]), array([-1]), array([1]), array([1]), array([1]), array([1]), array([1]), array([1]), array([1]), array([1]), array([-1]), array([-1]), array([1]), array([1]), array([1]), array([1]), array([1]), array([1]), array([1]), array([1]), array([-1]), array([1]), array([-1]), array([-1]), array([1]), array([-1]), array([1]), array([-1]), array([-1]), array([-1]), array([1]), array([-1]), array([-1]), array([-1]), array([1]), array([1]), array([1]), array([1]), array([-1]), array([-1]), array([1]), array([1]), array([1]), array([-1]), array([-1]), array([1]), array([-1]), array([1]), array([1]), array([-1]), array([1]), array([-1]), array([1]), array([-1]), array([1]), array([-1]), array([1]), array([-1]), array([1]), array([-1]), array([1]), array([1]), array([1]), array([1]), array([-1]), array([-1]), array([1]), array([1]), array([-1]), array([-1]), array([1]), array([1]), array([-1]), array([1]), array([-1]), array([1]), array([1]), array([1]), array([-1]), array([1]), array([-1]), array([-1]), array([-1]), array([-1]), array([1]), array([-1]), array([1]), array([1]), array([-1]), array([1]), array([-1]), array([1]), array([-1]), array([1]), array([1]), array([-1]), array([1]), array([1]), array([1]), array([1]), array([-1]), array([-1]), array([-1]), array([-1]), array([-1]), array([-1]), array([-1]), array([1]), array([1]), array([-1]), array([1]), array([1]), array([1]), array([-1]), array([1]), array([1]), array([-1]), array([-1]), array([1]), array([1]), array([1]), array([-1]), array([1]), array([1]), array([1]), array([1]), array([1]), array([1]), array([-1]), array([-1]), array([1]), array([-1]), array([-1]), array([-1]), array([-1]), array([1]), array([-1]), array([-1]), array([-1]), array([-1]), array([-1]), array([1]), array([-1]), array([1]), array([1]), array([1]), array([1]), array([-1])]\n",
            "Window 1: Normal\n",
            "Window 2: Anomaly\n",
            "Window 3: Anomaly\n",
            "Window 4: Normal\n",
            "Window 5: Anomaly\n",
            "Window 6: Normal\n",
            "Window 7: Normal\n",
            "Window 8: Anomaly\n",
            "Window 9: Anomaly\n",
            "Window 10: Normal\n",
            "Window 11: Normal\n",
            "Window 12: Anomaly\n",
            "Window 13: Anomaly\n",
            "Window 14: Normal\n",
            "Window 15: Normal\n",
            "Window 16: Anomaly\n",
            "Window 17: Anomaly\n",
            "Window 18: Normal\n",
            "Window 19: Anomaly\n",
            "Window 20: Normal\n",
            "Window 21: Normal\n",
            "Window 22: Normal\n",
            "Window 23: Anomaly\n",
            "Window 24: Normal\n",
            "Window 25: Normal\n",
            "Window 26: Normal\n",
            "Window 27: Anomaly\n",
            "Window 28: Normal\n",
            "Window 29: Normal\n",
            "Window 30: Anomaly\n",
            "Window 31: Anomaly\n",
            "Window 32: Anomaly\n",
            "Window 33: Normal\n",
            "Window 34: Normal\n",
            "Window 35: Normal\n",
            "Window 36: Normal\n",
            "Window 37: Normal\n",
            "Window 38: Normal\n",
            "Window 39: Anomaly\n",
            "Window 40: Anomaly\n",
            "Window 41: Normal\n",
            "Window 42: Normal\n",
            "Window 43: Normal\n",
            "Window 44: Normal\n",
            "Window 45: Anomaly\n",
            "Window 46: Normal\n",
            "Window 47: Normal\n",
            "Window 48: Anomaly\n",
            "Window 49: Anomaly\n",
            "Window 50: Normal\n",
            "Window 51: Anomaly\n",
            "Window 52: Normal\n",
            "Window 53: Anomaly\n",
            "Window 54: Normal\n",
            "Window 55: Anomaly\n",
            "Window 56: Normal\n",
            "Window 57: Normal\n",
            "Window 58: Anomaly\n",
            "Window 59: Normal\n",
            "Window 60: Anomaly\n",
            "Window 61: Anomaly\n",
            "Window 62: Anomaly\n",
            "Window 63: Normal\n",
            "Window 64: Normal\n",
            "Window 65: Anomaly\n",
            "Window 66: Anomaly\n",
            "Window 67: Normal\n",
            "Window 68: Normal\n",
            "Window 69: Normal\n",
            "Window 70: Normal\n",
            "Window 71: Normal\n",
            "Window 72: Anomaly\n",
            "Window 73: Anomaly\n",
            "Window 74: Normal\n",
            "Window 75: Anomaly\n",
            "Window 76: Normal\n",
            "Window 77: Anomaly\n",
            "Window 78: Anomaly\n",
            "Window 79: Normal\n",
            "Window 80: Anomaly\n",
            "Window 81: Anomaly\n",
            "Window 82: Normal\n",
            "Window 83: Normal\n",
            "Window 84: Anomaly\n",
            "Window 85: Normal\n",
            "Window 86: Normal\n",
            "Window 87: Anomaly\n",
            "Window 88: Normal\n",
            "Window 89: Normal\n",
            "Window 90: Anomaly\n",
            "Window 91: Anomaly\n",
            "Window 92: Anomaly\n",
            "Window 93: Anomaly\n",
            "Window 94: Anomaly\n",
            "Window 95: Anomaly\n",
            "Window 96: Normal\n",
            "Window 97: Anomaly\n",
            "Window 98: Normal\n",
            "Window 99: Anomaly\n",
            "Window 100: Anomaly\n",
            "Window 101: Normal\n",
            "Window 102: Anomaly\n",
            "Window 103: Anomaly\n",
            "Window 104: Anomaly\n",
            "Window 105: Anomaly\n",
            "Window 106: Anomaly\n",
            "Window 107: Normal\n",
            "Window 108: Anomaly\n",
            "Window 109: Anomaly\n",
            "Window 110: Anomaly\n",
            "Window 111: Normal\n",
            "Window 112: Normal\n",
            "Window 113: Anomaly\n",
            "Window 114: Normal\n",
            "Window 115: Anomaly\n",
            "Window 116: Normal\n",
            "Window 117: Normal\n",
            "Window 118: Anomaly\n",
            "Window 119: Anomaly\n",
            "Window 120: Normal\n",
            "Window 121: Anomaly\n",
            "Window 122: Normal\n",
            "Window 123: Anomaly\n",
            "Window 124: Anomaly\n",
            "Window 125: Normal\n",
            "Window 126: Normal\n",
            "Window 127: Normal\n",
            "Window 128: Normal\n",
            "Window 129: Anomaly\n",
            "Window 130: Normal\n",
            "Window 131: Normal\n",
            "Window 132: Anomaly\n",
            "Window 133: Normal\n",
            "Window 134: Normal\n",
            "Window 135: Normal\n",
            "Window 136: Anomaly\n",
            "Window 137: Anomaly\n",
            "Window 138: Normal\n",
            "Window 139: Normal\n",
            "Window 140: Anomaly\n",
            "Window 141: Normal\n",
            "Window 142: Normal\n",
            "Window 143: Anomaly\n",
            "Window 144: Anomaly\n",
            "Window 145: Normal\n",
            "Window 146: Normal\n",
            "Window 147: Normal\n",
            "Window 148: Normal\n",
            "Window 149: Normal\n",
            "Window 150: Anomaly\n",
            "Window 151: Normal\n",
            "Window 152: Anomaly\n",
            "Window 153: Normal\n",
            "Window 154: Normal\n",
            "Window 155: Normal\n",
            "Window 156: Normal\n",
            "Window 157: Normal\n",
            "Window 158: Anomaly\n",
            "Window 159: Normal\n",
            "Window 160: Normal\n",
            "Window 161: Normal\n",
            "Window 162: Anomaly\n",
            "Window 163: Normal\n",
            "Window 164: Normal\n",
            "Window 165: Anomaly\n",
            "Window 166: Anomaly\n",
            "Window 167: Normal\n",
            "Window 168: Anomaly\n",
            "Window 169: Normal\n",
            "Window 170: Anomaly\n",
            "Window 171: Normal\n",
            "Window 172: Anomaly\n",
            "Window 173: Normal\n",
            "Window 174: Normal\n",
            "Window 175: Normal\n",
            "Window 176: Anomaly\n",
            "Window 177: Anomaly\n",
            "Window 178: Normal\n",
            "Window 179: Normal\n",
            "Window 180: Normal\n",
            "Window 181: Normal\n",
            "Window 182: Normal\n",
            "Window 183: Normal\n",
            "Window 184: Normal\n",
            "Window 185: Normal\n",
            "Window 186: Anomaly\n",
            "Window 187: Anomaly\n",
            "Window 188: Normal\n",
            "Window 189: Normal\n",
            "Window 190: Normal\n",
            "Window 191: Normal\n",
            "Window 192: Normal\n",
            "Window 193: Normal\n",
            "Window 194: Normal\n",
            "Window 195: Normal\n",
            "Window 196: Anomaly\n",
            "Window 197: Normal\n",
            "Window 198: Anomaly\n",
            "Window 199: Anomaly\n",
            "Window 200: Normal\n",
            "Window 201: Anomaly\n",
            "Window 202: Normal\n",
            "Window 203: Anomaly\n",
            "Window 204: Anomaly\n",
            "Window 205: Anomaly\n",
            "Window 206: Normal\n",
            "Window 207: Anomaly\n",
            "Window 208: Anomaly\n",
            "Window 209: Anomaly\n",
            "Window 210: Normal\n",
            "Window 211: Normal\n",
            "Window 212: Normal\n",
            "Window 213: Normal\n",
            "Window 214: Anomaly\n",
            "Window 215: Anomaly\n",
            "Window 216: Normal\n",
            "Window 217: Normal\n",
            "Window 218: Normal\n",
            "Window 219: Anomaly\n",
            "Window 220: Anomaly\n",
            "Window 221: Normal\n",
            "Window 222: Anomaly\n",
            "Window 223: Normal\n",
            "Window 224: Normal\n",
            "Window 225: Anomaly\n",
            "Window 226: Normal\n",
            "Window 227: Anomaly\n",
            "Window 228: Normal\n",
            "Window 229: Anomaly\n",
            "Window 230: Normal\n",
            "Window 231: Anomaly\n",
            "Window 232: Normal\n",
            "Window 233: Anomaly\n",
            "Window 234: Normal\n",
            "Window 235: Anomaly\n",
            "Window 236: Normal\n",
            "Window 237: Normal\n",
            "Window 238: Normal\n",
            "Window 239: Normal\n",
            "Window 240: Anomaly\n",
            "Window 241: Anomaly\n",
            "Window 242: Normal\n",
            "Window 243: Normal\n",
            "Window 244: Anomaly\n",
            "Window 245: Anomaly\n",
            "Window 246: Normal\n",
            "Window 247: Normal\n",
            "Window 248: Anomaly\n",
            "Window 249: Normal\n",
            "Window 250: Anomaly\n",
            "Window 251: Normal\n",
            "Window 252: Normal\n",
            "Window 253: Normal\n",
            "Window 254: Anomaly\n",
            "Window 255: Normal\n",
            "Window 256: Anomaly\n",
            "Window 257: Anomaly\n",
            "Window 258: Anomaly\n",
            "Window 259: Anomaly\n",
            "Window 260: Normal\n",
            "Window 261: Anomaly\n",
            "Window 262: Normal\n",
            "Window 263: Normal\n",
            "Window 264: Anomaly\n",
            "Window 265: Normal\n",
            "Window 266: Anomaly\n",
            "Window 267: Normal\n",
            "Window 268: Anomaly\n",
            "Window 269: Normal\n",
            "Window 270: Normal\n",
            "Window 271: Anomaly\n",
            "Window 272: Normal\n",
            "Window 273: Normal\n",
            "Window 274: Normal\n",
            "Window 275: Normal\n",
            "Window 276: Anomaly\n",
            "Window 277: Anomaly\n",
            "Window 278: Anomaly\n",
            "Window 279: Anomaly\n",
            "Window 280: Anomaly\n",
            "Window 281: Anomaly\n",
            "Window 282: Anomaly\n",
            "Window 283: Normal\n",
            "Window 284: Normal\n",
            "Window 285: Anomaly\n",
            "Window 286: Normal\n",
            "Window 287: Normal\n",
            "Window 288: Normal\n",
            "Window 289: Anomaly\n",
            "Window 290: Normal\n",
            "Window 291: Normal\n",
            "Window 292: Anomaly\n",
            "Window 293: Anomaly\n",
            "Window 294: Normal\n",
            "Window 295: Normal\n",
            "Window 296: Normal\n",
            "Window 297: Anomaly\n",
            "Window 298: Normal\n",
            "Window 299: Normal\n",
            "Window 300: Normal\n",
            "Window 301: Normal\n",
            "Window 302: Normal\n",
            "Window 303: Normal\n",
            "Window 304: Anomaly\n",
            "Window 305: Anomaly\n",
            "Window 306: Normal\n",
            "Window 307: Anomaly\n",
            "Window 308: Anomaly\n",
            "Window 309: Anomaly\n",
            "Window 310: Anomaly\n",
            "Window 311: Normal\n",
            "Window 312: Anomaly\n",
            "Window 313: Anomaly\n",
            "Window 314: Anomaly\n",
            "Window 315: Anomaly\n",
            "Window 316: Anomaly\n",
            "Window 317: Normal\n",
            "Window 318: Anomaly\n",
            "Window 319: Normal\n",
            "Window 320: Normal\n",
            "Window 321: Normal\n",
            "Window 322: Normal\n",
            "Window 323: Anomaly\n"
          ]
        }
      ]
    },
    {
      "cell_type": "code",
      "source": [
        "#SVM predicts anomalous as -1 and normal as 1\n",
        "#y_test has normal as 0 and anomalous as 1"
      ],
      "metadata": {
        "id": "rs6ur9MGUhPx"
      },
      "execution_count": 84,
      "outputs": []
    },
    {
      "cell_type": "code",
      "source": [
        "# Flatten the list of predictions\n",
        "flat_predictions = [0 if pred == 1 else 1 for pred in predictions]\n",
        "\n",
        "# Calculate accuracy\n",
        "accuracy = accuracy_score(y_test, flat_predictions)\n",
        "\n",
        "print(\"Accuracy:\", accuracy)"
      ],
      "metadata": {
        "colab": {
          "base_uri": "https://localhost:8080/"
        },
        "id": "bPpLmWx1YsVr",
        "outputId": "cab94598-da05-42d4-8092-f822cbd596d6"
      },
      "execution_count": 90,
      "outputs": [
        {
          "output_type": "stream",
          "name": "stdout",
          "text": [
            "Accuracy: 0.9287925696594427\n"
          ]
        }
      ]
    },
    {
      "cell_type": "code",
      "source": [
        "print(y_test)\n",
        "print(flat_predictions)"
      ],
      "metadata": {
        "colab": {
          "base_uri": "https://localhost:8080/"
        },
        "id": "M9cJve4Yh9lx",
        "outputId": "03bb82f0-a28a-4a80-eb47-7a71665be98b"
      },
      "execution_count": 91,
      "outputs": [
        {
          "output_type": "stream",
          "name": "stdout",
          "text": [
            "[1, 0, 1, 0, 1, 0, 0, 1, 1, 0, 0, 1, 1, 0, 0, 1, 1, 0, 1, 0, 0, 0, 1, 1, 1, 0, 0, 0, 0, 1, 1, 1, 0, 0, 0, 0, 0, 0, 1, 0, 0, 0, 0, 0, 1, 0, 0, 1, 1, 1, 1, 0, 1, 0, 0, 0, 0, 1, 0, 1, 1, 1, 0, 0, 1, 1, 0, 0, 0, 0, 0, 0, 1, 0, 1, 0, 1, 1, 0, 1, 0, 1, 0, 1, 0, 0, 1, 0, 0, 1, 1, 1, 1, 1, 1, 0, 1, 0, 1, 1, 0, 1, 1, 1, 1, 1, 0, 0, 1, 1, 0, 0, 1, 0, 1, 0, 0, 1, 1, 0, 1, 0, 1, 1, 0, 0, 0, 0, 1, 0, 0, 1, 0, 0, 0, 0, 1, 1, 0, 1, 0, 0, 1, 1, 0, 0, 0, 0, 0, 1, 0, 1, 0, 0, 0, 0, 0, 1, 0, 0, 0, 1, 0, 0, 1, 1, 0, 1, 0, 1, 0, 1, 0, 0, 0, 1, 1, 0, 0, 0, 0, 0, 0, 0, 0, 1, 1, 0, 0, 0, 0, 0, 0, 0, 0, 1, 0, 1, 1, 0, 1, 0, 1, 1, 1, 0, 1, 1, 1, 0, 0, 0, 0, 0, 0, 0, 0, 0, 1, 1, 0, 1, 0, 0, 0, 0, 1, 0, 1, 0, 1, 0, 1, 0, 0, 0, 0, 0, 0, 1, 1, 0, 0, 1, 1, 0, 0, 1, 0, 1, 0, 0, 0, 1, 0, 0, 1, 1, 1, 0, 1, 0, 0, 1, 0, 1, 0, 1, 0, 0, 1, 0, 1, 0, 0, 1, 1, 1, 1, 1, 1, 1, 0, 0, 1, 0, 0, 0, 1, 0, 0, 0, 1, 1, 0, 0, 1, 1, 0, 0, 0, 0, 0, 1, 1, 0, 1, 1, 1, 1, 0, 1, 1, 1, 1, 1, 0, 1, 0, 0, 0, 0, 1]\n",
            "[0, 1, 1, 0, 1, 0, 0, 1, 1, 0, 0, 1, 1, 0, 0, 1, 1, 0, 1, 0, 0, 0, 1, 0, 0, 0, 1, 0, 0, 1, 1, 1, 0, 0, 0, 0, 0, 0, 1, 1, 0, 0, 0, 0, 1, 0, 0, 1, 1, 0, 1, 0, 1, 0, 1, 0, 0, 1, 0, 1, 1, 1, 0, 0, 1, 1, 0, 0, 0, 0, 0, 1, 1, 0, 1, 0, 1, 1, 0, 1, 1, 0, 0, 1, 0, 0, 1, 0, 0, 1, 1, 1, 1, 1, 1, 0, 1, 0, 1, 1, 0, 1, 1, 1, 1, 1, 0, 1, 1, 1, 0, 0, 1, 0, 1, 0, 0, 1, 1, 0, 1, 0, 1, 1, 0, 0, 0, 0, 1, 0, 0, 1, 0, 0, 0, 1, 1, 0, 0, 1, 0, 0, 1, 1, 0, 0, 0, 0, 0, 1, 0, 1, 0, 0, 0, 0, 0, 1, 0, 0, 0, 1, 0, 0, 1, 1, 0, 1, 0, 1, 0, 1, 0, 0, 0, 1, 1, 0, 0, 0, 0, 0, 0, 0, 0, 1, 1, 0, 0, 0, 0, 0, 0, 0, 0, 1, 0, 1, 1, 0, 1, 0, 1, 1, 1, 0, 1, 1, 1, 0, 0, 0, 0, 1, 1, 0, 0, 0, 1, 1, 0, 1, 0, 0, 1, 0, 1, 0, 1, 0, 1, 0, 1, 0, 1, 0, 0, 0, 0, 1, 1, 0, 0, 1, 1, 0, 0, 1, 0, 1, 0, 0, 0, 1, 0, 1, 1, 1, 1, 0, 1, 0, 0, 1, 0, 1, 0, 1, 0, 0, 1, 0, 0, 0, 0, 1, 1, 1, 1, 1, 1, 1, 0, 0, 1, 0, 0, 0, 1, 0, 0, 1, 1, 0, 0, 0, 1, 0, 0, 0, 0, 0, 0, 1, 1, 0, 1, 1, 1, 1, 0, 1, 1, 1, 1, 1, 0, 1, 0, 0, 0, 0, 1]\n"
          ]
        }
      ]
    },
    {
      "cell_type": "code",
      "source": [
        "# Compute the confusion matrix\n",
        "conf_matrix = confusion_matrix(y_test, flat_predictions)\n",
        "\n",
        "# Print the confusion matrix\n",
        "print(\"Confusion Matrix:\")\n",
        "print(conf_matrix)"
      ],
      "metadata": {
        "id": "N6gxyfpnj1Gw",
        "colab": {
          "base_uri": "https://localhost:8080/"
        },
        "outputId": "45af2a47-4b4e-425d-fe47-9aa69dd14b56"
      },
      "execution_count": 92,
      "outputs": [
        {
          "output_type": "stream",
          "name": "stdout",
          "text": [
            "Confusion Matrix:\n",
            "[[170  14]\n",
            " [  9 130]]\n"
          ]
        }
      ]
    },
    {
      "cell_type": "code",
      "source": [
        "import matplotlib.pyplot as plt\n",
        "import seaborn as sns\n",
        "from sklearn.metrics import confusion_matrix\n",
        "\n",
        "# Compute the confusion matrix\n",
        "conf_matrix = confusion_matrix(y_test, flat_predictions)\n",
        "\n",
        "# Visualize the confusion matrix\n",
        "plt.figure(figsize=(8, 6))\n",
        "sns.heatmap(conf_matrix, annot=True, fmt=\"d\", cmap=\"Blues\", cbar=False)\n",
        "plt.title(\"Confusion Matrix\")\n",
        "plt.xlabel(\"Predicted Label\")\n",
        "plt.ylabel(\"True Label\")\n",
        "plt.show()"
      ],
      "metadata": {
        "colab": {
          "base_uri": "https://localhost:8080/",
          "height": 564
        },
        "id": "su90pFuvM9El",
        "outputId": "b3aeb2a3-57f6-4fa6-8407-a4a1f21b086e"
      },
      "execution_count": 93,
      "outputs": [
        {
          "output_type": "display_data",
          "data": {
            "text/plain": [
              "<Figure size 800x600 with 1 Axes>"
            ],
            "image/png": "[encoded data removed]"
          },
          "metadata": {}
        }
      ]
    },
    {
      "cell_type": "code",
      "source": [
        "from sklearn.metrics import f1_score\n",
        "\n",
        "# Compute the F1 score\n",
        "f1 = f1_score(y_test, flat_predictions)\n",
        "\n",
        "# Print the F1 score\n",
        "print(\"F1 Score:\", f1)\n"
      ],
      "metadata": {
        "colab": {
          "base_uri": "https://localhost:8080/"
        },
        "id": "4DnzoDwkaXnR",
        "outputId": "6838ce30-7423-4ccb-ae30-7e56e2286b59"
      },
      "execution_count": 94,
      "outputs": [
        {
          "output_type": "stream",
          "name": "stdout",
          "text": [
            "F1 Score: 0.9187279151943463\n"
          ]
        }
      ]
    },
    {
      "cell_type": "code",
      "source": [
        "print(flat_predictions[:])"
      ],
      "metadata": {
        "colab": {
          "base_uri": "https://localhost:8080/"
        },
        "id": "rdbwR73TapBZ",
        "outputId": "85de082d-8645-4bf9-d35f-4cb1299c121b"
      },
      "execution_count": 89,
      "outputs": [
        {
          "output_type": "stream",
          "name": "stdout",
          "text": [
            "[0, -1, -1, 0, -1, 0, 0, -1, -1, 0, 0, -1, -1, 0, 0, -1, -1, 0, -1, 0, 0, 0, -1, 0, 0, 0, -1, 0, 0, -1, -1, -1, 0, 0, 0, 0, 0, 0, -1, -1, 0, 0, 0, 0, -1, 0, 0, -1, -1, 0, -1, 0, -1, 0, -1, 0, 0, -1, 0, -1, -1, -1, 0, 0, -1, -1, 0, 0, 0, 0, 0, -1, -1, 0, -1, 0, -1, -1, 0, -1, -1, 0, 0, -1, 0, 0, -1, 0, 0, -1, -1, -1, -1, -1, -1, 0, -1, 0, -1, -1, 0, -1, -1, -1, -1, -1, 0, -1, -1, -1, 0, 0, -1, 0, -1, 0, 0, -1, -1, 0, -1, 0, -1, -1, 0, 0, 0, 0, -1, 0, 0, -1, 0, 0, 0, -1, -1, 0, 0, -1, 0, 0, -1, -1, 0, 0, 0, 0, 0, -1, 0, -1, 0, 0, 0, 0, 0, -1, 0, 0, 0, -1, 0, 0, -1, -1, 0, -1, 0, -1, 0, -1, 0, 0, 0, -1, -1, 0, 0, 0, 0, 0, 0, 0, 0, -1, -1, 0, 0, 0, 0, 0, 0, 0, 0, -1, 0, -1, -1, 0, -1, 0, -1, -1, -1, 0, -1, -1, -1, 0, 0, 0, 0, -1, -1, 0, 0, 0, -1, -1, 0, -1, 0, 0, -1, 0, -1, 0, -1, 0, -1, 0, -1, 0, -1, 0, 0, 0, 0, -1, -1, 0, 0, -1, -1, 0, 0, -1, 0, -1, 0, 0, 0, -1, 0, -1, -1, -1, -1, 0, -1, 0, 0, -1, 0, -1, 0, -1, 0, 0, -1, 0, 0, 0, 0, -1, -1, -1, -1, -1, -1, -1, 0, 0, -1, 0, 0, 0, -1, 0, 0, -1, -1, 0, 0, 0, -1, 0, 0, 0, 0, 0, 0, -1, -1, 0, -1, -1, -1, -1, 0, -1, -1, -1, -1, -1, 0, -1, 0, 0, 0, 0, -1]\n"
          ]
        }
      ]
    },
    {
      "cell_type": "code",
      "source": [],
      "metadata": {
        "id": "Zys6476hazA8"
      },
      "execution_count": null,
      "outputs": []
    }
  ]
}